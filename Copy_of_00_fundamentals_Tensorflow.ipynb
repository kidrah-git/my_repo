{
  "nbformat": 4,
  "nbformat_minor": 0,
  "metadata": {
    "colab": {
      "provenance": [],
      "include_colab_link": true
    },
    "kernelspec": {
      "name": "python3",
      "display_name": "Python 3"
    },
    "language_info": {
      "name": "python"
    }
  },
  "cells": [
    {
      "cell_type": "markdown",
      "metadata": {
        "id": "view-in-github",
        "colab_type": "text"
      },
      "source": [
        "<a href=\"https://colab.research.google.com/github/kidrah-git/my_repo/blob/master/Copy_of_00_fundamentals_Tensorflow.ipynb\" target=\"_parent\"><img src=\"https://colab.research.google.com/assets/colab-badge.svg\" alt=\"Open In Colab\"/></a>"
      ]
    },
    {
      "cell_type": "code",
      "execution_count": 4,
      "metadata": {
        "colab": {
          "base_uri": "https://localhost:8080/"
        },
        "id": "abLVmePAsi08",
        "outputId": "29b8f735-0984-4614-e21b-f0453dd48c04"
      },
      "outputs": [
        {
          "output_type": "stream",
          "name": "stdout",
          "text": [
            "2.15.0\n"
          ]
        }
      ],
      "source": [
        "#import tenorflow\n",
        "import tensorflow as tf\n",
        "print(tf. __version__)"
      ]
    },
    {
      "cell_type": "code",
      "source": [
        "# Create tensors with tf.constant()\n",
        "scalar = tf.constant(7)\n",
        "scalar"
      ],
      "metadata": {
        "colab": {
          "base_uri": "https://localhost:8080/"
        },
        "id": "iVe3eof4tKWe",
        "outputId": "596d87f5-7e5d-4f79-91ac-2fc1916e5445"
      },
      "execution_count": 5,
      "outputs": [
        {
          "output_type": "execute_result",
          "data": {
            "text/plain": [
              "<tf.Tensor: shape=(), dtype=int32, numpy=7>"
            ]
          },
          "metadata": {},
          "execution_count": 5
        }
      ]
    },
    {
      "cell_type": "code",
      "source": [
        "# check the number of deimension of a tensor\n",
        "scalar.ndim\n"
      ],
      "metadata": {
        "colab": {
          "base_uri": "https://localhost:8080/"
        },
        "id": "soLlIYZSuUJ0",
        "outputId": "705f3536-de4c-44f6-df9c-ec2f499c28b6"
      },
      "execution_count": 6,
      "outputs": [
        {
          "output_type": "execute_result",
          "data": {
            "text/plain": [
              "0"
            ]
          },
          "metadata": {},
          "execution_count": 6
        }
      ]
    },
    {
      "cell_type": "code",
      "source": [
        "#creating a vector\n",
        "vector = tf.constant ([10, 10])\n",
        "vector"
      ],
      "metadata": {
        "colab": {
          "base_uri": "https://localhost:8080/"
        },
        "id": "_tRFPUXBujd6",
        "outputId": "3bc32623-02ee-441a-e475-9ba6707fac59"
      },
      "execution_count": 7,
      "outputs": [
        {
          "output_type": "execute_result",
          "data": {
            "text/plain": [
              "<tf.Tensor: shape=(2,), dtype=int32, numpy=array([10, 10], dtype=int32)>"
            ]
          },
          "metadata": {},
          "execution_count": 7
        }
      ]
    },
    {
      "cell_type": "code",
      "source": [
        "#check the dimension of the vector\n",
        "vector.ndim"
      ],
      "metadata": {
        "colab": {
          "base_uri": "https://localhost:8080/"
        },
        "id": "a91Mh5LEvHSc",
        "outputId": "3a76da58-7374-49b9-8e20-75a60110f849"
      },
      "execution_count": 8,
      "outputs": [
        {
          "output_type": "execute_result",
          "data": {
            "text/plain": [
              "1"
            ]
          },
          "metadata": {},
          "execution_count": 8
        }
      ]
    },
    {
      "cell_type": "code",
      "source": [
        "# create a Matrix\n",
        "matrix = tf.constant ([[10, 7], [7,10]])\n",
        "matrix"
      ],
      "metadata": {
        "colab": {
          "base_uri": "https://localhost:8080/"
        },
        "id": "ovi4nvfNvOuN",
        "outputId": "4b45db90-d17b-4ea1-f333-c928c52f8959"
      },
      "execution_count": 9,
      "outputs": [
        {
          "output_type": "execute_result",
          "data": {
            "text/plain": [
              "<tf.Tensor: shape=(2, 2), dtype=int32, numpy=\n",
              "array([[10,  7],\n",
              "       [ 7, 10]], dtype=int32)>"
            ]
          },
          "metadata": {},
          "execution_count": 9
        }
      ]
    },
    {
      "cell_type": "code",
      "source": [
        "matrix.ndim"
      ],
      "metadata": {
        "colab": {
          "base_uri": "https://localhost:8080/"
        },
        "id": "gCzRns_vvyKQ",
        "outputId": "ba61581c-eaaa-4392-c2ad-ed479dfedf91"
      },
      "execution_count": 10,
      "outputs": [
        {
          "output_type": "execute_result",
          "data": {
            "text/plain": [
              "2"
            ]
          },
          "metadata": {},
          "execution_count": 10
        }
      ]
    },
    {
      "cell_type": "code",
      "source": [
        "# specify the data type\n",
        "another_matrix = tf.constant ([[10., 5.], [5., 10.], [7., 10.]], dtype=tf.float16)\n",
        "another_matrix"
      ],
      "metadata": {
        "id": "wdt_WS_tv802",
        "colab": {
          "base_uri": "https://localhost:8080/"
        },
        "outputId": "00ca7193-e036-4d13-b3cb-c8fc18949827"
      },
      "execution_count": 11,
      "outputs": [
        {
          "output_type": "execute_result",
          "data": {
            "text/plain": [
              "<tf.Tensor: shape=(3, 2), dtype=float16, numpy=\n",
              "array([[10.,  5.],\n",
              "       [ 5., 10.],\n",
              "       [ 7., 10.]], dtype=float16)>"
            ]
          },
          "metadata": {},
          "execution_count": 11
        }
      ]
    },
    {
      "cell_type": "code",
      "source": [
        "# whats the number of dimension of another matrix\n",
        "another_matrix.ndim"
      ],
      "metadata": {
        "colab": {
          "base_uri": "https://localhost:8080/"
        },
        "id": "jYLLubDzxc9c",
        "outputId": "2ad63237-d164-4917-9cb0-a091ded8b07e"
      },
      "execution_count": null,
      "outputs": [
        {
          "output_type": "execute_result",
          "data": {
            "text/plain": [
              "2"
            ]
          },
          "metadata": {},
          "execution_count": 11
        }
      ]
    },
    {
      "cell_type": "code",
      "source": [
        "# lets create a tensor\n",
        "tensor = tf.constant([[[1, 2, 3],\n",
        "                       [2, 3, 4 ],\n",
        "                      [ 5, 6, 7],\n",
        "                      [3, 4, 6],\n",
        "                       [2, 3, 5],\n",
        "                       [4, 6, 7]]])\n",
        "tensor"
      ],
      "metadata": {
        "colab": {
          "base_uri": "https://localhost:8080/"
        },
        "id": "iB2Rhi-ixyxb",
        "outputId": "18c0cceb-0b96-4e6a-9d60-cb1c6c80c22f"
      },
      "execution_count": 12,
      "outputs": [
        {
          "output_type": "execute_result",
          "data": {
            "text/plain": [
              "<tf.Tensor: shape=(1, 6, 3), dtype=int32, numpy=\n",
              "array([[[1, 2, 3],\n",
              "        [2, 3, 4],\n",
              "        [5, 6, 7],\n",
              "        [3, 4, 6],\n",
              "        [2, 3, 5],\n",
              "        [4, 6, 7]]], dtype=int32)>"
            ]
          },
          "metadata": {},
          "execution_count": 12
        }
      ]
    },
    {
      "cell_type": "code",
      "source": [
        "tensor.ndim"
      ],
      "metadata": {
        "colab": {
          "base_uri": "https://localhost:8080/"
        },
        "id": "OsSwK8xyzwnf",
        "outputId": "7f664d3b-70f7-4525-c7f4-ec0eb6669fff"
      },
      "execution_count": 13,
      "outputs": [
        {
          "output_type": "execute_result",
          "data": {
            "text/plain": [
              "3"
            ]
          },
          "metadata": {},
          "execution_count": 13
        }
      ]
    },
    {
      "cell_type": "code",
      "source": [
        "#creating tensor with tf.Variable\n",
        "changeable_tensor = tf.Variable([10, 7])\n",
        "unchangable_tensor = tf.constant([10, 7])\n",
        "\n",
        "changeable_tensor, unchangable_tensor\n"
      ],
      "metadata": {
        "id": "qGn1LxRLB7og",
        "colab": {
          "base_uri": "https://localhost:8080/"
        },
        "outputId": "2e5e0347-1770-4497-e8d3-18a8d0f92220"
      },
      "execution_count": 14,
      "outputs": [
        {
          "output_type": "execute_result",
          "data": {
            "text/plain": [
              "(<tf.Variable 'Variable:0' shape=(2,) dtype=int32, numpy=array([10,  7], dtype=int32)>,\n",
              " <tf.Tensor: shape=(2,), dtype=int32, numpy=array([10,  7], dtype=int32)>)"
            ]
          },
          "metadata": {},
          "execution_count": 14
        }
      ]
    },
    {
      "cell_type": "code",
      "source": [
        "# how about creating the changable tensor into .assign()\n",
        "changeable_tensor[0].assign(7)\n",
        "changeable_tensor"
      ],
      "metadata": {
        "colab": {
          "base_uri": "https://localhost:8080/"
        },
        "id": "-EBPERnvfFHx",
        "outputId": "d4bef900-3cf4-4d6e-c8a4-cd96ff575ffa"
      },
      "execution_count": 15,
      "outputs": [
        {
          "output_type": "execute_result",
          "data": {
            "text/plain": [
              "<tf.Variable 'Variable:0' shape=(2,) dtype=int32, numpy=array([7, 7], dtype=int32)>"
            ]
          },
          "metadata": {},
          "execution_count": 15
        }
      ]
    },
    {
      "cell_type": "code",
      "source": [
        "# creating random tensors\n",
        "# creating two random with the same tensors\n",
        "random_1 = tf.random.Generator.from_seed(42) # set seed for reproductibility\n",
        "random_1 = random_1.normal (shape=(3, 2))\n",
        "random_2 = tf.random.Generator.from_seed(42)\n",
        "random_2 = random_2.normal (shape=(3,2))\n",
        "\n",
        "# are random_1 and random_2 equal\n",
        "random_1, random_2, random_1 == random_2"
      ],
      "metadata": {
        "id": "bOX5Yr-0gDkq",
        "colab": {
          "base_uri": "https://localhost:8080/"
        },
        "outputId": "bdb1d70f-838a-4a24-9593-9bf0affe01e1"
      },
      "execution_count": 24,
      "outputs": [
        {
          "output_type": "execute_result",
          "data": {
            "text/plain": [
              "(<tf.Tensor: shape=(3, 2), dtype=float32, numpy=\n",
              " array([[-0.7565803 , -0.06854702],\n",
              "        [ 0.07595026, -1.2573844 ],\n",
              "        [-0.23193763, -1.8107855 ]], dtype=float32)>,\n",
              " <tf.Tensor: shape=(3, 2), dtype=float32, numpy=\n",
              " array([[-0.7565803 , -0.06854702],\n",
              "        [ 0.07595026, -1.2573844 ],\n",
              "        [-0.23193763, -1.8107855 ]], dtype=float32)>,\n",
              " <tf.Tensor: shape=(3, 2), dtype=bool, numpy=\n",
              " array([[ True,  True],\n",
              "        [ True,  True],\n",
              "        [ True,  True]])>)"
            ]
          },
          "metadata": {},
          "execution_count": 24
        }
      ]
    },
    {
      "cell_type": "code",
      "source": [
        "### shuffle the order of the elements in the tensor\n",
        "\n",
        "\n",
        "not_shuffle = tf.constant ([[10,  6], [7, 10], [5, 3]])\n",
        "\n",
        "\n",
        "\n"
      ],
      "metadata": {
        "id": "aGCiB_N6Wlde"
      },
      "execution_count": 31,
      "outputs": []
    },
    {
      "cell_type": "code",
      "source": [
        "# shuffle our non shuffled tenors\n",
        "tf.random.shuffle(not_shuffle)"
      ],
      "metadata": {
        "colab": {
          "base_uri": "https://localhost:8080/"
        },
        "id": "5mvOazgBcnVl",
        "outputId": "517b8b9f-b6bf-49b3-f7b8-314c1108c92b"
      },
      "execution_count": 32,
      "outputs": [
        {
          "output_type": "execute_result",
          "data": {
            "text/plain": [
              "<tf.Tensor: shape=(3, 2), dtype=int32, numpy=\n",
              "array([[ 7, 10],\n",
              "       [10,  6],\n",
              "       [ 5,  3]], dtype=int32)>"
            ]
          },
          "metadata": {},
          "execution_count": 32
        }
      ]
    },
    {
      "cell_type": "code",
      "source": [
        "tf.random.set_seed(42)\n",
        "tf.random.shuffle(not_shuffle, seed=42)"
      ],
      "metadata": {
        "colab": {
          "base_uri": "https://localhost:8080/"
        },
        "id": "uf93nIYbcv2n",
        "outputId": "7293e667-ec98-4bb9-b5f1-eedd47228cef"
      },
      "execution_count": 34,
      "outputs": [
        {
          "output_type": "execute_result",
          "data": {
            "text/plain": [
              "<tf.Tensor: shape=(3, 2), dtype=int32, numpy=\n",
              "array([[10,  6],\n",
              "       [ 7, 10],\n",
              "       [ 5,  3]], dtype=int32)>"
            ]
          },
          "metadata": {},
          "execution_count": 34
        }
      ]
    },
    {
      "cell_type": "code",
      "source": [
        "not_shuffle"
      ],
      "metadata": {
        "colab": {
          "base_uri": "https://localhost:8080/"
        },
        "id": "C3kCAm2kaqqX",
        "outputId": "b7dde88e-faf7-45a2-d0b7-f04c3f0ed24f"
      },
      "execution_count": 35,
      "outputs": [
        {
          "output_type": "execute_result",
          "data": {
            "text/plain": [
              "<tf.Tensor: shape=(3, 2), dtype=int32, numpy=\n",
              "array([[10,  6],\n",
              "       [ 7, 10],\n",
              "       [ 5,  3]], dtype=int32)>"
            ]
          },
          "metadata": {},
          "execution_count": 35
        }
      ]
    }
  ]
}